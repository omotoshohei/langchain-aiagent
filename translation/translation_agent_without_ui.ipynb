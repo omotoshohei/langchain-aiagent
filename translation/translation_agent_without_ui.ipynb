{
  "cells": [
    {
      "cell_type": "code",
      "execution_count": 1,
      "metadata": {
        "colab": {
          "base_uri": "https://localhost:8080/",
          "height": 1000
        },
        "id": "17lHap7chDQD",
        "outputId": "eba4398e-1366-4b73-cb67-f82d373b5a43"
      },
      "outputs": [
        {
          "name": "stdout",
          "output_type": "stream",
          "text": [
            "Requirement already satisfied: langchain-core in /usr/local/lib/python3.11/dist-packages (0.3.59)\n",
            "Collecting langchain-openai\n",
            "  Downloading langchain_openai-0.3.17-py3-none-any.whl.metadata (2.3 kB)\n",
            "Collecting langchain-anthropic\n",
            "  Downloading langchain_anthropic-0.3.13-py3-none-any.whl.metadata (1.9 kB)\n",
            "Collecting langchain-google-genai\n",
            "  Downloading langchain_google_genai-2.1.4-py3-none-any.whl.metadata (5.2 kB)\n",
            "Requirement already satisfied: langsmith<0.4,>=0.1.125 in /usr/local/lib/python3.11/dist-packages (from langchain-core) (0.3.42)\n",
            "Requirement already satisfied: tenacity!=8.4.0,<10.0.0,>=8.1.0 in /usr/local/lib/python3.11/dist-packages (from langchain-core) (9.1.2)\n",
            "Requirement already satisfied: jsonpatch<2.0,>=1.33 in /usr/local/lib/python3.11/dist-packages (from langchain-core) (1.33)\n",
            "Requirement already satisfied: PyYAML>=5.3 in /usr/local/lib/python3.11/dist-packages (from langchain-core) (6.0.2)\n",
            "Requirement already satisfied: packaging<25,>=23.2 in /usr/local/lib/python3.11/dist-packages (from langchain-core) (24.2)\n",
            "Requirement already satisfied: typing-extensions>=4.7 in /usr/local/lib/python3.11/dist-packages (from langchain-core) (4.13.2)\n",
            "Requirement already satisfied: pydantic<3.0.0,>=2.5.2 in /usr/local/lib/python3.11/dist-packages (from langchain-core) (2.11.4)\n",
            "Requirement already satisfied: openai<2.0.0,>=1.68.2 in /usr/local/lib/python3.11/dist-packages (from langchain-openai) (1.78.1)\n",
            "Requirement already satisfied: tiktoken<1,>=0.7 in /usr/local/lib/python3.11/dist-packages (from langchain-openai) (0.9.0)\n",
            "Collecting anthropic<1,>=0.51.0 (from langchain-anthropic)\n",
            "  Downloading anthropic-0.51.0-py3-none-any.whl.metadata (25 kB)\n",
            "Collecting filetype<2.0.0,>=1.2.0 (from langchain-google-genai)\n",
            "  Downloading filetype-1.2.0-py2.py3-none-any.whl.metadata (6.5 kB)\n",
            "Collecting google-ai-generativelanguage<0.7.0,>=0.6.18 (from langchain-google-genai)\n",
            "  Downloading google_ai_generativelanguage-0.6.18-py3-none-any.whl.metadata (9.8 kB)\n",
            "Requirement already satisfied: anyio<5,>=3.5.0 in /usr/local/lib/python3.11/dist-packages (from anthropic<1,>=0.51.0->langchain-anthropic) (4.9.0)\n",
            "Requirement already satisfied: distro<2,>=1.7.0 in /usr/local/lib/python3.11/dist-packages (from anthropic<1,>=0.51.0->langchain-anthropic) (1.9.0)\n",
            "Requirement already satisfied: httpx<1,>=0.25.0 in /usr/local/lib/python3.11/dist-packages (from anthropic<1,>=0.51.0->langchain-anthropic) (0.28.1)\n",
            "Requirement already satisfied: jiter<1,>=0.4.0 in /usr/local/lib/python3.11/dist-packages (from anthropic<1,>=0.51.0->langchain-anthropic) (0.9.0)\n",
            "Requirement already satisfied: sniffio in /usr/local/lib/python3.11/dist-packages (from anthropic<1,>=0.51.0->langchain-anthropic) (1.3.1)\n",
            "Requirement already satisfied: google-api-core!=2.0.*,!=2.1.*,!=2.10.*,!=2.2.*,!=2.3.*,!=2.4.*,!=2.5.*,!=2.6.*,!=2.7.*,!=2.8.*,!=2.9.*,<3.0.0,>=1.34.1 in /usr/local/lib/python3.11/dist-packages (from google-api-core[grpc]!=2.0.*,!=2.1.*,!=2.10.*,!=2.2.*,!=2.3.*,!=2.4.*,!=2.5.*,!=2.6.*,!=2.7.*,!=2.8.*,!=2.9.*,<3.0.0,>=1.34.1->google-ai-generativelanguage<0.7.0,>=0.6.18->langchain-google-genai) (2.24.2)\n",
            "Requirement already satisfied: google-auth!=2.24.0,!=2.25.0,<3.0.0,>=2.14.1 in /usr/local/lib/python3.11/dist-packages (from google-ai-generativelanguage<0.7.0,>=0.6.18->langchain-google-genai) (2.38.0)\n",
            "Requirement already satisfied: proto-plus<2.0.0,>=1.22.3 in /usr/local/lib/python3.11/dist-packages (from google-ai-generativelanguage<0.7.0,>=0.6.18->langchain-google-genai) (1.26.1)\n",
            "Requirement already satisfied: protobuf!=4.21.0,!=4.21.1,!=4.21.2,!=4.21.3,!=4.21.4,!=4.21.5,<7.0.0,>=3.20.2 in /usr/local/lib/python3.11/dist-packages (from google-ai-generativelanguage<0.7.0,>=0.6.18->langchain-google-genai) (5.29.4)\n",
            "Requirement already satisfied: jsonpointer>=1.9 in /usr/local/lib/python3.11/dist-packages (from jsonpatch<2.0,>=1.33->langchain-core) (3.0.0)\n",
            "Requirement already satisfied: orjson<4.0.0,>=3.9.14 in /usr/local/lib/python3.11/dist-packages (from langsmith<0.4,>=0.1.125->langchain-core) (3.10.18)\n",
            "Requirement already satisfied: requests<3,>=2 in /usr/local/lib/python3.11/dist-packages (from langsmith<0.4,>=0.1.125->langchain-core) (2.32.3)\n",
            "Requirement already satisfied: requests-toolbelt<2.0.0,>=1.0.0 in /usr/local/lib/python3.11/dist-packages (from langsmith<0.4,>=0.1.125->langchain-core) (1.0.0)\n",
            "Requirement already satisfied: zstandard<0.24.0,>=0.23.0 in /usr/local/lib/python3.11/dist-packages (from langsmith<0.4,>=0.1.125->langchain-core) (0.23.0)\n",
            "Requirement already satisfied: tqdm>4 in /usr/local/lib/python3.11/dist-packages (from openai<2.0.0,>=1.68.2->langchain-openai) (4.67.1)\n",
            "Requirement already satisfied: annotated-types>=0.6.0 in /usr/local/lib/python3.11/dist-packages (from pydantic<3.0.0,>=2.5.2->langchain-core) (0.7.0)\n",
            "Requirement already satisfied: pydantic-core==2.33.2 in /usr/local/lib/python3.11/dist-packages (from pydantic<3.0.0,>=2.5.2->langchain-core) (2.33.2)\n",
            "Requirement already satisfied: typing-inspection>=0.4.0 in /usr/local/lib/python3.11/dist-packages (from pydantic<3.0.0,>=2.5.2->langchain-core) (0.4.0)\n",
            "Requirement already satisfied: regex>=2022.1.18 in /usr/local/lib/python3.11/dist-packages (from tiktoken<1,>=0.7->langchain-openai) (2024.11.6)\n",
            "Requirement already satisfied: idna>=2.8 in /usr/local/lib/python3.11/dist-packages (from anyio<5,>=3.5.0->anthropic<1,>=0.51.0->langchain-anthropic) (3.10)\n",
            "Requirement already satisfied: googleapis-common-protos<2.0.0,>=1.56.2 in /usr/local/lib/python3.11/dist-packages (from google-api-core!=2.0.*,!=2.1.*,!=2.10.*,!=2.2.*,!=2.3.*,!=2.4.*,!=2.5.*,!=2.6.*,!=2.7.*,!=2.8.*,!=2.9.*,<3.0.0,>=1.34.1->google-api-core[grpc]!=2.0.*,!=2.1.*,!=2.10.*,!=2.2.*,!=2.3.*,!=2.4.*,!=2.5.*,!=2.6.*,!=2.7.*,!=2.8.*,!=2.9.*,<3.0.0,>=1.34.1->google-ai-generativelanguage<0.7.0,>=0.6.18->langchain-google-genai) (1.70.0)\n",
            "Requirement already satisfied: grpcio<2.0dev,>=1.33.2 in /usr/local/lib/python3.11/dist-packages (from google-api-core[grpc]!=2.0.*,!=2.1.*,!=2.10.*,!=2.2.*,!=2.3.*,!=2.4.*,!=2.5.*,!=2.6.*,!=2.7.*,!=2.8.*,!=2.9.*,<3.0.0,>=1.34.1->google-ai-generativelanguage<0.7.0,>=0.6.18->langchain-google-genai) (1.71.0)\n",
            "Requirement already satisfied: grpcio-status<2.0.dev0,>=1.33.2 in /usr/local/lib/python3.11/dist-packages (from google-api-core[grpc]!=2.0.*,!=2.1.*,!=2.10.*,!=2.2.*,!=2.3.*,!=2.4.*,!=2.5.*,!=2.6.*,!=2.7.*,!=2.8.*,!=2.9.*,<3.0.0,>=1.34.1->google-ai-generativelanguage<0.7.0,>=0.6.18->langchain-google-genai) (1.71.0)\n",
            "Requirement already satisfied: cachetools<6.0,>=2.0.0 in /usr/local/lib/python3.11/dist-packages (from google-auth!=2.24.0,!=2.25.0,<3.0.0,>=2.14.1->google-ai-generativelanguage<0.7.0,>=0.6.18->langchain-google-genai) (5.5.2)\n",
            "Requirement already satisfied: pyasn1-modules>=0.2.1 in /usr/local/lib/python3.11/dist-packages (from google-auth!=2.24.0,!=2.25.0,<3.0.0,>=2.14.1->google-ai-generativelanguage<0.7.0,>=0.6.18->langchain-google-genai) (0.4.2)\n",
            "Requirement already satisfied: rsa<5,>=3.1.4 in /usr/local/lib/python3.11/dist-packages (from google-auth!=2.24.0,!=2.25.0,<3.0.0,>=2.14.1->google-ai-generativelanguage<0.7.0,>=0.6.18->langchain-google-genai) (4.9.1)\n",
            "Requirement already satisfied: certifi in /usr/local/lib/python3.11/dist-packages (from httpx<1,>=0.25.0->anthropic<1,>=0.51.0->langchain-anthropic) (2025.4.26)\n",
            "Requirement already satisfied: httpcore==1.* in /usr/local/lib/python3.11/dist-packages (from httpx<1,>=0.25.0->anthropic<1,>=0.51.0->langchain-anthropic) (1.0.9)\n",
            "Requirement already satisfied: h11>=0.16 in /usr/local/lib/python3.11/dist-packages (from httpcore==1.*->httpx<1,>=0.25.0->anthropic<1,>=0.51.0->langchain-anthropic) (0.16.0)\n",
            "Requirement already satisfied: charset-normalizer<4,>=2 in /usr/local/lib/python3.11/dist-packages (from requests<3,>=2->langsmith<0.4,>=0.1.125->langchain-core) (3.4.2)\n",
            "Requirement already satisfied: urllib3<3,>=1.21.1 in /usr/local/lib/python3.11/dist-packages (from requests<3,>=2->langsmith<0.4,>=0.1.125->langchain-core) (2.4.0)\n",
            "Requirement already satisfied: pyasn1<0.7.0,>=0.6.1 in /usr/local/lib/python3.11/dist-packages (from pyasn1-modules>=0.2.1->google-auth!=2.24.0,!=2.25.0,<3.0.0,>=2.14.1->google-ai-generativelanguage<0.7.0,>=0.6.18->langchain-google-genai) (0.6.1)\n",
            "Downloading langchain_openai-0.3.17-py3-none-any.whl (62 kB)\n",
            "\u001b[2K   \u001b[90m━━━━━━━━━━━━━━━━━━━━━━━━━━━━━━━━━━━━━━━━\u001b[0m \u001b[32m62.9/62.9 kB\u001b[0m \u001b[31m703.2 kB/s\u001b[0m eta \u001b[36m0:00:00\u001b[0m\n",
            "\u001b[?25hDownloading langchain_anthropic-0.3.13-py3-none-any.whl (26 kB)\n",
            "Downloading langchain_google_genai-2.1.4-py3-none-any.whl (44 kB)\n",
            "\u001b[2K   \u001b[90m━━━━━━━━━━━━━━━━━━━━━━━━━━━━━━━━━━━━━━━━\u001b[0m \u001b[32m44.3/44.3 kB\u001b[0m \u001b[31m2.1 MB/s\u001b[0m eta \u001b[36m0:00:00\u001b[0m\n",
            "\u001b[?25hDownloading anthropic-0.51.0-py3-none-any.whl (263 kB)\n",
            "\u001b[2K   \u001b[90m━━━━━━━━━━━━━━━━━━━━━━━━━━━━━━━━━━━━━━━━\u001b[0m \u001b[32m264.0/264.0 kB\u001b[0m \u001b[31m6.5 MB/s\u001b[0m eta \u001b[36m0:00:00\u001b[0m\n",
            "\u001b[?25hDownloading filetype-1.2.0-py2.py3-none-any.whl (19 kB)\n",
            "Downloading google_ai_generativelanguage-0.6.18-py3-none-any.whl (1.4 MB)\n",
            "\u001b[2K   \u001b[90m━━━━━━━━━━━━━━━━━━━━━━━━━━━━━━━━━━━━━━━━\u001b[0m \u001b[32m1.4/1.4 MB\u001b[0m \u001b[31m19.9 MB/s\u001b[0m eta \u001b[36m0:00:00\u001b[0m\n",
            "\u001b[?25hInstalling collected packages: filetype, anthropic, langchain-openai, langchain-anthropic, google-ai-generativelanguage, langchain-google-genai\n",
            "  Attempting uninstall: google-ai-generativelanguage\n",
            "    Found existing installation: google-ai-generativelanguage 0.6.15\n",
            "    Uninstalling google-ai-generativelanguage-0.6.15:\n",
            "      Successfully uninstalled google-ai-generativelanguage-0.6.15\n",
            "\u001b[31mERROR: pip's dependency resolver does not currently take into account all the packages that are installed. This behaviour is the source of the following dependency conflicts.\n",
            "google-generativeai 0.8.5 requires google-ai-generativelanguage==0.6.15, but you have google-ai-generativelanguage 0.6.18 which is incompatible.\u001b[0m\u001b[31m\n",
            "\u001b[0mSuccessfully installed anthropic-0.51.0 filetype-1.2.0 google-ai-generativelanguage-0.6.18 langchain-anthropic-0.3.13 langchain-google-genai-2.1.4 langchain-openai-0.3.17\n"
          ]
        },
        {
          "data": {
            "application/vnd.colab-display-data+json": {
              "id": "2c0185b2acfa4535a7a1e3f40e8caccd",
              "pip_warning": {
                "packages": [
                  "google"
                ]
              }
            }
          },
          "metadata": {},
          "output_type": "display_data"
        }
      ],
      "source": [
        "!pip install langchain-core langchain-openai langchain-anthropic langchain-google-genai"
      ]
    },
    {
      "cell_type": "markdown",
      "metadata": {
        "id": "RV6N0ASYkGaj"
      },
      "source": [
        "# Translate from English to Japanese\n",
        "\n"
      ]
    },
    {
      "cell_type": "code",
      "execution_count": 5,
      "metadata": {
        "colab": {
          "base_uri": "https://localhost:8080/"
        },
        "id": "CtaWiafiiAd_",
        "outputId": "c4447a35-6948-4f58-ec16-02af8a9d0401"
      },
      "outputs": [
        {
          "name": "stdout",
          "output_type": "stream",
          "text": [
            "Enter English text to translate: This season, we have a wide range of items with playful designs and colors to brighten up your home! Why not incorporate items that make everyday life more enjoyable as you move into a new lifestyle?\n",
            "\n",
            "Translation Result: 今シーズンは、遊び心あふれるデザインとカラーで、お部屋を明るく彩るアイテムを豊富に取り揃えました！ 新しいライフスタイルを始めるにあたり、日々の暮らしをより楽しくしてくれるアイテムを取り入れてみませんか？\n",
            "\n",
            "Proofreading Result: # 校正後の文章\n",
            "\n",
            "今シーズンは、遊び心あふれるデザインとカラーで、お部屋を明るく彩るアイテムを豊富に取り揃えました。新しい生活スタイルに合わせて、日々の暮らしをより楽しくしてくれる商品を取り入れてみませんか？\n"
          ]
        }
      ],
      "source": [
        "import traceback\n",
        "from langchain_core.prompts import ChatPromptTemplate\n",
        "from langchain_core.output_parsers import StrOutputParser\n",
        "from langchain_google_genai import ChatGoogleGenerativeAI\n",
        "from langchain_anthropic import ChatAnthropic\n",
        "import os\n",
        "from google.colab import userdata\n",
        "\n",
        "# Set API keys for Google and Anthropic\n",
        "os.environ[\"GOOGLE_API_KEY\"] = userdata.get('GOOGLE_API_KEY')\n",
        "os.environ[\"ANTHROPIC_API_KEY\"] = userdata.get('CLAUDE_API_KEY')\n",
        "\n",
        "# 定義するプロンプトテンプレート\n",
        "PROMPT_1 = \"\"\"\n",
        "次のテキストを、英語から日本語に翻訳してください。翻訳する際には以下の点に注意してください:\n",
        "- 元のテキストの意味やニュアンスを忠実に反映してください。\n",
        "- 自然で流暢な文章になるように心がけてください。\n",
        "- 特定の用語がある場合は、その用語に対応する一般的な翻訳を使用してください。\n",
        "- 文化的な違いがある場合は、適切に調整してください。\n",
        "- Text: {text}\n",
        "\"\"\"\n",
        "\n",
        "PROMPT_2 = \"\"\"\n",
        "次の文章を最終的に校正し、全体のトーンやニュアンスを自然で読みやすい形に整えてください。校正する際には以下の点に注意してください:\n",
        "- 文章全体の流れやリズムが自然かを確認し、必要に応じて調整してください。\n",
        "- 簡潔でユーザーにとって有益な情報を伝えるように、冗長な部分を省いてください。\n",
        "- 語彙や言い回しが適切で、ターゲット読者にとって分かりやすいかをチェックしてください。\n",
        "- 文化的な背景やニュアンスに配慮し、元の意味が適切に伝わるようにしてください。\n",
        "- Text: {text}\n",
        "\"\"\"\n",
        "\n",
        "# モデルの初期化\n",
        "\n",
        "def init_models(temperature=0):\n",
        "    gemini = ChatGoogleGenerativeAI(temperature=temperature, model=\"gemini-2.0-flash-lite\")\n",
        "    claude = ChatAnthropic(temperature=temperature, model_name=\"claude-3-7-sonnet-latest\")\n",
        "    return gemini, claude\n",
        "\n",
        "# チェーンの初期化\n",
        "\n",
        "def init_chain():\n",
        "    gemini, claude = init_models()\n",
        "    prompt_1 = ChatPromptTemplate.from_messages([\n",
        "        (\"user\", PROMPT_1),\n",
        "    ])\n",
        "    prompt_2 = ChatPromptTemplate.from_messages([\n",
        "        (\"user\", PROMPT_2),\n",
        "    ])\n",
        "    parser = StrOutputParser()\n",
        "    chain_1 = prompt_1 | gemini | parser\n",
        "    chain_2 = prompt_2 | claude | parser\n",
        "    return chain_1, chain_2\n",
        "\n",
        "# メインの関数\n",
        "\n",
        "def main():\n",
        "    chain_1, chain_2 = init_chain()\n",
        "    text = input(\"Enter English text to translate: \")\n",
        "\n",
        "    try:\n",
        "        # Step 1: Geminiによる翻訳\n",
        "        translated = ''.join(list(chain_1.invoke({\"text\": text})))\n",
        "        print(\"\\nTranslation Result:\", translated)\n",
        "\n",
        "        # Step 2: Claudeによる校正\n",
        "        proofread = ''.join(list(chain_2.invoke({\"text\": translated})))\n",
        "        print(\"\\nProofreading Result:\", proofread)\n",
        "\n",
        "    except Exception:\n",
        "        print(\"An error occurred during the process.\")\n",
        "        print(traceback.format_exc())\n",
        "\n",
        "if __name__ == '__main__':\n",
        "    main()"
      ]
    },
    {
      "cell_type": "markdown",
      "metadata": {
        "id": "uPrmdqgxkM3X"
      },
      "source": [
        "# Translate from Japanese to English"
      ]
    },
    {
      "cell_type": "code",
      "execution_count": null,
      "metadata": {
        "id": "Y_zCZHX2kMT0"
      },
      "outputs": [],
      "source": [
        "import traceback\n",
        "from langchain_core.prompts import ChatPromptTemplate\n",
        "from langchain_core.output_parsers import StrOutputParser\n",
        "from langchain_google_genai import ChatGoogleGenerativeAI\n",
        "from langchain_anthropic import ChatAnthropic\n",
        "import os\n",
        "from google.colab import userdata\n",
        "\n",
        "# Set API keys for Google and Anthropic\n",
        "os.environ[\"GOOGLE_API_KEY\"] = userdata.get('GOOGLE_API_KEY')\n",
        "os.environ[\"ANTHROPIC_API_KEY\"] = userdata.get('CLAUDE_API_KEY')\n",
        "\n",
        "# 定義するプロンプトテンプレート\n",
        "PROMPT_1 = \"\"\"\n",
        "次のテキストを、日本語から英語に翻訳してください。翻訳する際には以下の点に注意してください:\n",
        "- 元のテキストの意味やニュアンスを忠実に反映してください。\n",
        "- 自然で流暢な文章になるように心がけてください。\n",
        "- 特定の用語がある場合は、その用語に対応する一般的な翻訳を使用してください。\n",
        "- 文化的な違いがある場合は、適切に調整してください。\n",
        "- 「IKEA」のテキストは「イケア」と表記ください\n",
        "- Text: {text}\n",
        "\"\"\"\n",
        "\n",
        "PROMPT_2 = \"\"\"\n",
        "次の文章を最終的に校正し、全体のトーンやニュアンスを自然で読みやすい形に整えてください。校正する際には以下の点に注意してください:\n",
        "- 文章全体の流れやリズムが自然かを確認し、必要に応じて調整してください。\n",
        "- 簡潔でユーザーにとって有益な情報を伝えるように、冗長な部分を省いてください。\n",
        "- 語彙や言い回しが適切で、ターゲット読者にとって分かりやすいかをチェックしてください。\n",
        "- 文化的な背景やニュアンスに配慮し、元の意味が適切に伝わるようにしてください。\n",
        "- Text: {text}\n",
        "\"\"\"\n",
        "\n",
        "# モデルの初期化\n",
        "\n",
        "def init_models(temperature=0):\n",
        "    gemini = ChatGoogleGenerativeAI(temperature=temperature, model=\"gemini-2.0-flash-lite\")\n",
        "    claude = ChatAnthropic(temperature=temperature, model_name=\"claude-3-7-sonnet-latest\")\n",
        "    return gemini, claude\n",
        "\n",
        "# チェーンの初期化\n",
        "\n",
        "def init_chain():\n",
        "    gemini, claude = init_models()\n",
        "    prompt_1 = ChatPromptTemplate.from_messages([\n",
        "        (\"user\", PROMPT_1),\n",
        "    ])\n",
        "    prompt_2 = ChatPromptTemplate.from_messages([\n",
        "        (\"user\", PROMPT_2),\n",
        "    ])\n",
        "    parser = StrOutputParser()\n",
        "    chain_1 = prompt_1 | gemini | parser\n",
        "    chain_2 = prompt_2 | claude | parser\n",
        "    return chain_1, chain_2\n",
        "\n",
        "# メインの関数\n",
        "\n",
        "def main():\n",
        "    chain_1, chain_2 = init_chain()\n",
        "    text = input(\"Enter Japanese text to translate: \")\n",
        "\n",
        "    try:\n",
        "        # Step 1: Geminiによる翻訳\n",
        "        translated = ''.join(list(chain_1.invoke({\"text\": text})))\n",
        "        print(\"\\nTranslation Result:\", translated)\n",
        "\n",
        "        # Step 2: Claudeによる校正\n",
        "        proofread = ''.join(list(chain_2.invoke({\"text\": translated})))\n",
        "        print(\"\\nProofreading Result:\", proofread)\n",
        "\n",
        "    except Exception:\n",
        "        print(\"An error occurred during the process.\")\n",
        "        print(traceback.format_exc())\n",
        "\n",
        "if __name__ == '__main__':\n",
        "    main()"
      ]
    }
  ],
  "metadata": {
    "colab": {
      "provenance": []
    },
    "kernelspec": {
      "display_name": "Python 3",
      "name": "python3"
    },
    "language_info": {
      "name": "python"
    }
  },
  "nbformat": 4,
  "nbformat_minor": 0
}
